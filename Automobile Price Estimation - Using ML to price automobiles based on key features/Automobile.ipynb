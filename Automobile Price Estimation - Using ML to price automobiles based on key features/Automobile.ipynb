{
 "cells": [
  {
   "cell_type": "markdown",
   "metadata": {
    "id": "VaCLkthiLITv"
   },
   "source": [
    "# Automobile Price Estimation - Using ML to Price Automobiles Based On Key Features (Python Code)"
   ]
  },
  {
   "cell_type": "markdown",
   "metadata": {
    "id": "6a7Eedc7LOxT"
   },
   "source": [
    "# Installing Libraries"
   ]
  },
  {
   "cell_type": "code",
   "execution_count": 1,
   "metadata": {
    "colab": {
     "base_uri": "https://localhost:8080/",
     "height": 381
    },
    "id": "FPS0xCwHkx5w",
    "outputId": "10ea7087-df34-41bd-9d9d-e931dc22a64d"
   },
   "outputs": [],
   "source": [
    "#!pip install pandas\n",
    "import pandas as pd\n",
    "\n",
    "#!pip install numpy\n",
    "import numpy as np\n",
    "\n",
    "#!pip install matplotlib\n",
    "import matplotlib.pyplot as plt\n",
    "\n",
    "#!pip install seaborn\n",
    "import seaborn as sns\n",
    "\n",
    "#!pip install sklearn\n",
    "from sklearn.model_selection import train_test_split\n",
    "from sklearn.linear_model import LinearRegression\n",
    "from sklearn.tree import DecisionTreeRegressor\n",
    "from sklearn.ensemble import RandomForestRegressor\n",
    "\n",
    "from sklearn.metrics import mean_absolute_error\n",
    "from sklearn.metrics import mean_squared_error\n",
    "from sklearn.metrics import r2_score\n",
    "\n",
    "#!pip install statsmodels==0.12.1\n",
    "from statsmodels.stats.outliers_influence import variance_inflation_factor\n",
    "\n",
    "import warnings\n",
    "warnings.filterwarnings('ignore')"
   ]
  },
  {
   "cell_type": "markdown",
   "metadata": {
    "id": "gZMscPQkM2IX"
   },
   "source": [
    "# Importing Dataset"
   ]
  },
  {
   "cell_type": "code",
   "execution_count": 2,
   "metadata": {
    "colab": {
     "background_save": true,
     "base_uri": "https://localhost:8080/",
     "height": 461
    },
    "id": "a6hrlQ0BlCUg",
    "outputId": "574a594b-45df-4a27-b409-b529cbdcabc3"
   },
   "outputs": [
    {
     "data": {
      "text/html": [
       "<div>\n",
       "<style scoped>\n",
       "    .dataframe tbody tr th:only-of-type {\n",
       "        vertical-align: middle;\n",
       "    }\n",
       "\n",
       "    .dataframe tbody tr th {\n",
       "        vertical-align: top;\n",
       "    }\n",
       "\n",
       "    .dataframe thead th {\n",
       "        text-align: right;\n",
       "    }\n",
       "</style>\n",
       "<table border=\"1\" class=\"dataframe\">\n",
       "  <thead>\n",
       "    <tr style=\"text-align: right;\">\n",
       "      <th></th>\n",
       "      <th>Make</th>\n",
       "      <th>Model</th>\n",
       "      <th>Year</th>\n",
       "      <th>Fuel_Type</th>\n",
       "      <th>HorsePower</th>\n",
       "      <th>Cylinders</th>\n",
       "      <th>Transmission_Type</th>\n",
       "      <th>Wheels_Driven</th>\n",
       "      <th>Number_of_Doors</th>\n",
       "      <th>Market_Segment</th>\n",
       "      <th>Vehicle_Size</th>\n",
       "      <th>Vehicle_Type</th>\n",
       "      <th>MPG_highway</th>\n",
       "      <th>MPG_City</th>\n",
       "      <th>Popularity</th>\n",
       "      <th>MSRP</th>\n",
       "    </tr>\n",
       "  </thead>\n",
       "  <tbody>\n",
       "    <tr>\n",
       "      <th>0</th>\n",
       "      <td>Ferrari</td>\n",
       "      <td>Enzo</td>\n",
       "      <td>2003</td>\n",
       "      <td>premium unleaded (required)</td>\n",
       "      <td>660</td>\n",
       "      <td>12</td>\n",
       "      <td>AUTOMATED_MANUAL</td>\n",
       "      <td>rear wheel drive</td>\n",
       "      <td>2</td>\n",
       "      <td>Exotic,High-Performance</td>\n",
       "      <td>Compact</td>\n",
       "      <td>Coupe</td>\n",
       "      <td>12</td>\n",
       "      <td>7</td>\n",
       "      <td>2774</td>\n",
       "      <td>643330</td>\n",
       "    </tr>\n",
       "    <tr>\n",
       "      <th>1</th>\n",
       "      <td>Lamborghini</td>\n",
       "      <td>Aventador</td>\n",
       "      <td>2014</td>\n",
       "      <td>premium unleaded (required)</td>\n",
       "      <td>720</td>\n",
       "      <td>12</td>\n",
       "      <td>AUTOMATED_MANUAL</td>\n",
       "      <td>all wheel drive</td>\n",
       "      <td>2</td>\n",
       "      <td>Exotic,High-Performance</td>\n",
       "      <td>Midsize</td>\n",
       "      <td>Convertible</td>\n",
       "      <td>16</td>\n",
       "      <td>10</td>\n",
       "      <td>1158</td>\n",
       "      <td>548800</td>\n",
       "    </tr>\n",
       "    <tr>\n",
       "      <th>2</th>\n",
       "      <td>Lamborghini</td>\n",
       "      <td>Aventador</td>\n",
       "      <td>2015</td>\n",
       "      <td>premium unleaded (required)</td>\n",
       "      <td>720</td>\n",
       "      <td>12</td>\n",
       "      <td>AUTOMATED_MANUAL</td>\n",
       "      <td>all wheel drive</td>\n",
       "      <td>2</td>\n",
       "      <td>Exotic,High-Performance</td>\n",
       "      <td>Midsize</td>\n",
       "      <td>Convertible</td>\n",
       "      <td>16</td>\n",
       "      <td>10</td>\n",
       "      <td>1158</td>\n",
       "      <td>548800</td>\n",
       "    </tr>\n",
       "    <tr>\n",
       "      <th>3</th>\n",
       "      <td>Lamborghini</td>\n",
       "      <td>Aventador</td>\n",
       "      <td>2016</td>\n",
       "      <td>premium unleaded (required)</td>\n",
       "      <td>750</td>\n",
       "      <td>12</td>\n",
       "      <td>AUTOMATED_MANUAL</td>\n",
       "      <td>all wheel drive</td>\n",
       "      <td>2</td>\n",
       "      <td>Exotic,High-Performance</td>\n",
       "      <td>Midsize</td>\n",
       "      <td>Convertible</td>\n",
       "      <td>18</td>\n",
       "      <td>11</td>\n",
       "      <td>1158</td>\n",
       "      <td>535500</td>\n",
       "    </tr>\n",
       "    <tr>\n",
       "      <th>4</th>\n",
       "      <td>Maybach</td>\n",
       "      <td>62</td>\n",
       "      <td>2010</td>\n",
       "      <td>premium unleaded (required)</td>\n",
       "      <td>631</td>\n",
       "      <td>12</td>\n",
       "      <td>AUTOMATIC</td>\n",
       "      <td>rear wheel drive</td>\n",
       "      <td>4</td>\n",
       "      <td>Exotic,Luxury,High-Performance</td>\n",
       "      <td>Large</td>\n",
       "      <td>Sedan</td>\n",
       "      <td>16</td>\n",
       "      <td>10</td>\n",
       "      <td>67</td>\n",
       "      <td>506500</td>\n",
       "    </tr>\n",
       "  </tbody>\n",
       "</table>\n",
       "</div>"
      ],
      "text/plain": [
       "          Make      Model  Year                    Fuel_Type  HorsePower  \\\n",
       "0      Ferrari       Enzo  2003  premium unleaded (required)         660   \n",
       "1  Lamborghini  Aventador  2014  premium unleaded (required)         720   \n",
       "2  Lamborghini  Aventador  2015  premium unleaded (required)         720   \n",
       "3  Lamborghini  Aventador  2016  premium unleaded (required)         750   \n",
       "4      Maybach         62  2010  premium unleaded (required)         631   \n",
       "\n",
       "   Cylinders Transmission_Type     Wheels_Driven  Number_of_Doors  \\\n",
       "0         12  AUTOMATED_MANUAL  rear wheel drive                2   \n",
       "1         12  AUTOMATED_MANUAL   all wheel drive                2   \n",
       "2         12  AUTOMATED_MANUAL   all wheel drive                2   \n",
       "3         12  AUTOMATED_MANUAL   all wheel drive                2   \n",
       "4         12         AUTOMATIC  rear wheel drive                4   \n",
       "\n",
       "                   Market_Segment Vehicle_Size Vehicle_Type  MPG_highway  \\\n",
       "0         Exotic,High-Performance      Compact        Coupe           12   \n",
       "1         Exotic,High-Performance      Midsize  Convertible           16   \n",
       "2         Exotic,High-Performance      Midsize  Convertible           16   \n",
       "3         Exotic,High-Performance      Midsize  Convertible           18   \n",
       "4  Exotic,Luxury,High-Performance        Large        Sedan           16   \n",
       "\n",
       "   MPG_City  Popularity    MSRP  \n",
       "0         7        2774  643330  \n",
       "1        10        1158  548800  \n",
       "2        10        1158  548800  \n",
       "3        11        1158  535500  \n",
       "4        10          67  506500  "
      ]
     },
     "metadata": {},
     "output_type": "display_data"
    },
    {
     "data": {
      "text/plain": [
       "(11908, 16)"
      ]
     },
     "metadata": {},
     "output_type": "display_data"
    }
   ],
   "source": [
    "# Import main data\n",
    "\n",
    "main_data = pd.read_csv('Automobile Price Estimation - Using ML to price automobiles based on key features.csv', sep = ';')\n",
    "display(main_data.head(), main_data.shape)\n",
    "\n",
    "# To load data in console use command:\n",
    "# python_dataframe_name = data_converter.convert_my_table_to_df('<table_name>')"
   ]
  },
  {
   "cell_type": "markdown",
   "metadata": {
    "id": "XcgxqT9rNCNS"
   },
   "source": [
    "# Exploratory Data Analysis"
   ]
  },
  {
   "cell_type": "markdown",
   "metadata": {
    "id": "dedLA_Vrp_Es"
   },
   "source": [
    "## Data Summary"
   ]
  },
  {
   "cell_type": "code",
   "execution_count": 3,
   "metadata": {
    "colab": {
     "background_save": true,
     "base_uri": "https://localhost:8080/",
     "height": 300
    },
    "id": "u8xAqdcBlu2H",
    "outputId": "b9eb8300-14c0-442d-fe66-02a516b7d0e1"
   },
   "outputs": [
    {
     "data": {
      "text/html": [
       "<div>\n",
       "<style scoped>\n",
       "    .dataframe tbody tr th:only-of-type {\n",
       "        vertical-align: middle;\n",
       "    }\n",
       "\n",
       "    .dataframe tbody tr th {\n",
       "        vertical-align: top;\n",
       "    }\n",
       "\n",
       "    .dataframe thead th {\n",
       "        text-align: right;\n",
       "    }\n",
       "</style>\n",
       "<table border=\"1\" class=\"dataframe\">\n",
       "  <thead>\n",
       "    <tr style=\"text-align: right;\">\n",
       "      <th></th>\n",
       "      <th>Year</th>\n",
       "      <th>HorsePower</th>\n",
       "      <th>Cylinders</th>\n",
       "      <th>Number_of_Doors</th>\n",
       "      <th>MPG_highway</th>\n",
       "      <th>MPG_City</th>\n",
       "      <th>Popularity</th>\n",
       "      <th>MSRP</th>\n",
       "    </tr>\n",
       "  </thead>\n",
       "  <tbody>\n",
       "    <tr>\n",
       "      <th>count</th>\n",
       "      <td>11908.000000</td>\n",
       "      <td>11908.000000</td>\n",
       "      <td>11908.000000</td>\n",
       "      <td>11908.000000</td>\n",
       "      <td>11908.000000</td>\n",
       "      <td>11908.000000</td>\n",
       "      <td>11908.000000</td>\n",
       "      <td>11908.000000</td>\n",
       "    </tr>\n",
       "    <tr>\n",
       "      <th>mean</th>\n",
       "      <td>2010.384867</td>\n",
       "      <td>249.098589</td>\n",
       "      <td>5.617148</td>\n",
       "      <td>3.436765</td>\n",
       "      <td>26.643517</td>\n",
       "      <td>19.738747</td>\n",
       "      <td>1555.379577</td>\n",
       "      <td>39814.517635</td>\n",
       "    </tr>\n",
       "    <tr>\n",
       "      <th>std</th>\n",
       "      <td>7.581528</td>\n",
       "      <td>108.077818</td>\n",
       "      <td>1.776965</td>\n",
       "      <td>0.880983</td>\n",
       "      <td>8.861133</td>\n",
       "      <td>8.986708</td>\n",
       "      <td>1442.037809</td>\n",
       "      <td>48757.014440</td>\n",
       "    </tr>\n",
       "    <tr>\n",
       "      <th>min</th>\n",
       "      <td>1990.000000</td>\n",
       "      <td>55.000000</td>\n",
       "      <td>0.000000</td>\n",
       "      <td>2.000000</td>\n",
       "      <td>12.000000</td>\n",
       "      <td>7.000000</td>\n",
       "      <td>2.000000</td>\n",
       "      <td>2000.000000</td>\n",
       "    </tr>\n",
       "    <tr>\n",
       "      <th>25%</th>\n",
       "      <td>2007.000000</td>\n",
       "      <td>170.000000</td>\n",
       "      <td>4.000000</td>\n",
       "      <td>2.000000</td>\n",
       "      <td>22.000000</td>\n",
       "      <td>16.000000</td>\n",
       "      <td>549.000000</td>\n",
       "      <td>20998.000000</td>\n",
       "    </tr>\n",
       "    <tr>\n",
       "      <th>50%</th>\n",
       "      <td>2015.000000</td>\n",
       "      <td>227.000000</td>\n",
       "      <td>6.000000</td>\n",
       "      <td>4.000000</td>\n",
       "      <td>26.000000</td>\n",
       "      <td>18.000000</td>\n",
       "      <td>1385.000000</td>\n",
       "      <td>29990.000000</td>\n",
       "    </tr>\n",
       "    <tr>\n",
       "      <th>75%</th>\n",
       "      <td>2016.000000</td>\n",
       "      <td>300.000000</td>\n",
       "      <td>6.000000</td>\n",
       "      <td>4.000000</td>\n",
       "      <td>30.000000</td>\n",
       "      <td>22.000000</td>\n",
       "      <td>2009.000000</td>\n",
       "      <td>42196.250000</td>\n",
       "    </tr>\n",
       "    <tr>\n",
       "      <th>max</th>\n",
       "      <td>2017.000000</td>\n",
       "      <td>750.000000</td>\n",
       "      <td>12.000000</td>\n",
       "      <td>4.000000</td>\n",
       "      <td>354.000000</td>\n",
       "      <td>137.000000</td>\n",
       "      <td>5657.000000</td>\n",
       "      <td>643330.000000</td>\n",
       "    </tr>\n",
       "  </tbody>\n",
       "</table>\n",
       "</div>"
      ],
      "text/plain": [
       "               Year    HorsePower     Cylinders  Number_of_Doors  \\\n",
       "count  11908.000000  11908.000000  11908.000000     11908.000000   \n",
       "mean    2010.384867    249.098589      5.617148         3.436765   \n",
       "std        7.581528    108.077818      1.776965         0.880983   \n",
       "min     1990.000000     55.000000      0.000000         2.000000   \n",
       "25%     2007.000000    170.000000      4.000000         2.000000   \n",
       "50%     2015.000000    227.000000      6.000000         4.000000   \n",
       "75%     2016.000000    300.000000      6.000000         4.000000   \n",
       "max     2017.000000    750.000000     12.000000         4.000000   \n",
       "\n",
       "        MPG_highway      MPG_City    Popularity           MSRP  \n",
       "count  11908.000000  11908.000000  11908.000000   11908.000000  \n",
       "mean      26.643517     19.738747   1555.379577   39814.517635  \n",
       "std        8.861133      8.986708   1442.037809   48757.014440  \n",
       "min       12.000000      7.000000      2.000000    2000.000000  \n",
       "25%       22.000000     16.000000    549.000000   20998.000000  \n",
       "50%       26.000000     18.000000   1385.000000   29990.000000  \n",
       "75%       30.000000     22.000000   2009.000000   42196.250000  \n",
       "max      354.000000    137.000000   5657.000000  643330.000000  "
      ]
     },
     "metadata": {},
     "output_type": "display_data"
    }
   ],
   "source": [
    "# Summarise data\n",
    "\n",
    "# Summary function in ATH Leaps\n",
    "\n",
    "display(main_data.describe())"
   ]
  },
  {
   "cell_type": "markdown",
   "metadata": {
    "id": "Hxw312yvqEzn"
   },
   "source": [
    "# Bar Chart for Make - Wise Distribution"
   ]
  },
  {
   "cell_type": "code",
   "execution_count": 4,
   "metadata": {
    "colab": {
     "background_save": true,
     "base_uri": "https://localhost:8080/",
     "height": 565
    },
    "id": "5zr4WHVnlyC4",
    "outputId": "05db67d4-20ac-441c-8648-6a1002ef6e85"
   },
   "outputs": [
    {
     "data": {
      "image/png": "[encoded data removed]",
      "text/plain": [
       "<Figure size 720x576 with 1 Axes>"
      ]
     },
     "metadata": {
      "needs_background": "light"
     },
     "output_type": "display_data"
    }
   ],
   "source": [
    "# Bar chart for frequency of each maker\n",
    "\n",
    "# Bar Chart 3D (IN) function in ATH Leaps\n",
    "\n",
    "plt.rcParams[\"figure.figsize\"] = (10,8)\n",
    "main_data['Make'].value_counts().plot(kind = 'bar')\n",
    "\n",
    "#Adding title and labels\n",
    "plt.title('Bar Chart for each maker')\n",
    "plt.xlabel('Make')\n",
    "plt.ylabel('Count')\n",
    "\n",
    "plt.show()"
   ]
  },
  {
   "cell_type": "markdown",
   "metadata": {
    "id": "0fg3Km5oqK0I"
   },
   "source": [
    "## Histogram for Cylinder Number - Wise Distribution"
   ]
  },
  {
   "cell_type": "code",
   "execution_count": 5,
   "metadata": {
    "colab": {
     "background_save": true,
     "base_uri": "https://localhost:8080/",
     "height": 513
    },
    "id": "alHV7UfDnxIs",
    "outputId": "5b268b1a-c2a1-4c11-ae00-182a58984810"
   },
   "outputs": [
    {
     "data": {
      "image/png": "[encoded data removed]",
      "text/plain": [
       "<Figure size 720x576 with 1 Axes>"
      ]
     },
     "metadata": {
      "needs_background": "light"
     },
     "output_type": "display_data"
    }
   ],
   "source": [
    "# Histogram of features\n",
    "\n",
    "# Histogram Plot (Py) function in ATH Leaps\n",
    "\n",
    "cats = ['Cylinders', 'HorsePower', 'Number_of_Doors']\n",
    "plt.xlabel('Number of cylinders')\n",
    "plt.ylabel('Frequency')\n",
    "plt.title('Histogram for Cylinders')\n",
    "main_data['Cylinders'].hist()\n",
    "plt.show()"
   ]
  },
  {
   "cell_type": "markdown",
   "metadata": {
    "id": "jZa4LPgqqSKz"
   },
   "source": [
    "## Histogram for Horse Power Distribution"
   ]
  },
  {
   "cell_type": "code",
   "execution_count": 6,
   "metadata": {
    "colab": {
     "background_save": true,
     "base_uri": "https://localhost:8080/",
     "height": 513
    },
    "id": "qyKbBaGSohBI",
    "outputId": "4675d6bb-3965-4139-e005-02738cd2adaa"
   },
   "outputs": [
    {
     "data": {
      "image/png": "[encoded data removed]",
      "text/plain": [
       "<Figure size 720x576 with 1 Axes>"
      ]
     },
     "metadata": {
      "needs_background": "light"
     },
     "output_type": "display_data"
    }
   ],
   "source": [
    "# Histogram for horse power\n",
    "\n",
    "plt.xlabel('Horse power')\n",
    "plt.ylabel('Frequency')\n",
    "plt.title('Histogram for Horse power')\n",
    "main_data['HorsePower'].hist()\n",
    "plt.show()"
   ]
  },
  {
   "cell_type": "markdown",
   "metadata": {
    "id": "_KRpRRIEqWRn"
   },
   "source": [
    "## Histogram for Distribution based on Number of Doors"
   ]
  },
  {
   "cell_type": "code",
   "execution_count": 7,
   "metadata": {
    "colab": {
     "background_save": true,
     "base_uri": "https://localhost:8080/",
     "height": 513
    },
    "id": "dNSXZPiko0es",
    "outputId": "432d9fce-7140-4e25-8c18-4c57432a77e1"
   },
   "outputs": [
    {
     "data": {
      "image/png": "[encoded data removed]",
      "text/plain": [
       "<Figure size 720x576 with 1 Axes>"
      ]
     },
     "metadata": {
      "needs_background": "light"
     },
     "output_type": "display_data"
    }
   ],
   "source": [
    "# Histogram for number of doors\n",
    "\n",
    "plt.xlabel('Number of doors')\n",
    "plt.ylabel('Frequency')\n",
    "plt.title('Histogram for Number of Doors')\n",
    "main_data['Number_of_Doors'].hist()\n",
    "plt.show()"
   ]
  },
  {
   "cell_type": "markdown",
   "metadata": {
    "id": "3jfcjvx8qfCh"
   },
   "source": [
    "## Pie Chart for Distribution of Transmission Type"
   ]
  },
  {
   "cell_type": "code",
   "execution_count": 8,
   "metadata": {
    "colab": {
     "background_save": true,
     "base_uri": "https://localhost:8080/",
     "height": 482
    },
    "id": "sgfGKzkso2rJ",
    "outputId": "7089cc8d-4569-4363-8e8c-052e7bf40daf"
   },
   "outputs": [
    {
     "data": {
      "image/png": "[encoded data removed]",
      "text/plain": [
       "<Figure size 720x576 with 1 Axes>"
      ]
     },
     "metadata": {},
     "output_type": "display_data"
    }
   ],
   "source": [
    "# Pie chart for frequency of transmission type\n",
    "\n",
    "# Pue Chart (IN) function in ATH Leaps\n",
    "\n",
    "plt.title('Pie Chart distribution for transmission types')\n",
    "plt.pie(main_data['Transmission_Type'].value_counts(), autopct='%1.0f%%')\n",
    "plt.show()"
   ]
  },
  {
   "cell_type": "markdown",
   "metadata": {},
   "source": [
    "## Computing the Average Horsepower for Each Make"
   ]
  },
  {
   "cell_type": "code",
   "execution_count": 9,
   "metadata": {
    "colab": {
     "background_save": true,
     "base_uri": "https://localhost:8080/",
     "height": 1000
    },
    "id": "2FsJSIkgpF8o",
    "outputId": "5e32ce6c-a6d5-464a-8b52-14f07592dd80"
   },
   "outputs": [
    {
     "data": {
      "text/html": [
       "<div>\n",
       "<style scoped>\n",
       "    .dataframe tbody tr th:only-of-type {\n",
       "        vertical-align: middle;\n",
       "    }\n",
       "\n",
       "    .dataframe tbody tr th {\n",
       "        vertical-align: top;\n",
       "    }\n",
       "\n",
       "    .dataframe thead th {\n",
       "        text-align: right;\n",
       "    }\n",
       "</style>\n",
       "<table border=\"1\" class=\"dataframe\">\n",
       "  <thead>\n",
       "    <tr style=\"text-align: right;\">\n",
       "      <th></th>\n",
       "      <th>Make</th>\n",
       "      <th>HorsePower</th>\n",
       "    </tr>\n",
       "  </thead>\n",
       "  <tbody>\n",
       "    <tr>\n",
       "      <th>0</th>\n",
       "      <td>Acura</td>\n",
       "      <td>244.797619</td>\n",
       "    </tr>\n",
       "    <tr>\n",
       "      <th>1</th>\n",
       "      <td>Alfa Romeo</td>\n",
       "      <td>237.000000</td>\n",
       "    </tr>\n",
       "    <tr>\n",
       "      <th>2</th>\n",
       "      <td>Aston Martin</td>\n",
       "      <td>484.322581</td>\n",
       "    </tr>\n",
       "    <tr>\n",
       "      <th>3</th>\n",
       "      <td>Audi</td>\n",
       "      <td>277.695122</td>\n",
       "    </tr>\n",
       "    <tr>\n",
       "      <th>4</th>\n",
       "      <td>BMW</td>\n",
       "      <td>326.907186</td>\n",
       "    </tr>\n",
       "    <tr>\n",
       "      <th>5</th>\n",
       "      <td>Bentley</td>\n",
       "      <td>533.851351</td>\n",
       "    </tr>\n",
       "    <tr>\n",
       "      <th>6</th>\n",
       "      <td>Buick</td>\n",
       "      <td>219.244898</td>\n",
       "    </tr>\n",
       "    <tr>\n",
       "      <th>7</th>\n",
       "      <td>Cadillac</td>\n",
       "      <td>332.309824</td>\n",
       "    </tr>\n",
       "    <tr>\n",
       "      <th>8</th>\n",
       "      <td>Chevrolet</td>\n",
       "      <td>246.983081</td>\n",
       "    </tr>\n",
       "    <tr>\n",
       "      <th>9</th>\n",
       "      <td>Chrysler</td>\n",
       "      <td>229.139037</td>\n",
       "    </tr>\n",
       "    <tr>\n",
       "      <th>10</th>\n",
       "      <td>Dodge</td>\n",
       "      <td>244.415335</td>\n",
       "    </tr>\n",
       "    <tr>\n",
       "      <th>11</th>\n",
       "      <td>FIAT</td>\n",
       "      <td>148.661290</td>\n",
       "    </tr>\n",
       "    <tr>\n",
       "      <th>12</th>\n",
       "      <td>Ferrari</td>\n",
       "      <td>511.956522</td>\n",
       "    </tr>\n",
       "    <tr>\n",
       "      <th>13</th>\n",
       "      <td>Ford</td>\n",
       "      <td>243.185017</td>\n",
       "    </tr>\n",
       "    <tr>\n",
       "      <th>14</th>\n",
       "      <td>GMC</td>\n",
       "      <td>259.844660</td>\n",
       "    </tr>\n",
       "    <tr>\n",
       "      <th>15</th>\n",
       "      <td>Genesis</td>\n",
       "      <td>347.333333</td>\n",
       "    </tr>\n",
       "    <tr>\n",
       "      <th>16</th>\n",
       "      <td>HUMMER</td>\n",
       "      <td>261.235294</td>\n",
       "    </tr>\n",
       "    <tr>\n",
       "      <th>17</th>\n",
       "      <td>Honda</td>\n",
       "      <td>195.986637</td>\n",
       "    </tr>\n",
       "    <tr>\n",
       "      <th>18</th>\n",
       "      <td>Hyundai</td>\n",
       "      <td>201.917492</td>\n",
       "    </tr>\n",
       "    <tr>\n",
       "      <th>19</th>\n",
       "      <td>Infiniti</td>\n",
       "      <td>310.066667</td>\n",
       "    </tr>\n",
       "    <tr>\n",
       "      <th>20</th>\n",
       "      <td>Kia</td>\n",
       "      <td>207.740260</td>\n",
       "    </tr>\n",
       "    <tr>\n",
       "      <th>21</th>\n",
       "      <td>Lamborghini</td>\n",
       "      <td>613.372549</td>\n",
       "    </tr>\n",
       "    <tr>\n",
       "      <th>22</th>\n",
       "      <td>Land Rover</td>\n",
       "      <td>322.097902</td>\n",
       "    </tr>\n",
       "    <tr>\n",
       "      <th>23</th>\n",
       "      <td>Lexus</td>\n",
       "      <td>277.415842</td>\n",
       "    </tr>\n",
       "    <tr>\n",
       "      <th>24</th>\n",
       "      <td>Lincoln</td>\n",
       "      <td>283.158537</td>\n",
       "    </tr>\n",
       "    <tr>\n",
       "      <th>25</th>\n",
       "      <td>Lotus</td>\n",
       "      <td>275.965517</td>\n",
       "    </tr>\n",
       "    <tr>\n",
       "      <th>26</th>\n",
       "      <td>Maserati</td>\n",
       "      <td>420.793103</td>\n",
       "    </tr>\n",
       "    <tr>\n",
       "      <th>27</th>\n",
       "      <td>Maybach</td>\n",
       "      <td>586.285714</td>\n",
       "    </tr>\n",
       "    <tr>\n",
       "      <th>28</th>\n",
       "      <td>Mazda</td>\n",
       "      <td>171.992908</td>\n",
       "    </tr>\n",
       "    <tr>\n",
       "      <th>29</th>\n",
       "      <td>McLaren</td>\n",
       "      <td>610.400000</td>\n",
       "    </tr>\n",
       "    <tr>\n",
       "      <th>30</th>\n",
       "      <td>Mercedes-Benz</td>\n",
       "      <td>349.895184</td>\n",
       "    </tr>\n",
       "    <tr>\n",
       "      <th>31</th>\n",
       "      <td>Mitsubishi</td>\n",
       "      <td>173.784038</td>\n",
       "    </tr>\n",
       "    <tr>\n",
       "      <th>32</th>\n",
       "      <td>Nissan</td>\n",
       "      <td>240.084229</td>\n",
       "    </tr>\n",
       "    <tr>\n",
       "      <th>33</th>\n",
       "      <td>Oldsmobile</td>\n",
       "      <td>177.466667</td>\n",
       "    </tr>\n",
       "    <tr>\n",
       "      <th>34</th>\n",
       "      <td>Plymouth</td>\n",
       "      <td>131.560976</td>\n",
       "    </tr>\n",
       "    <tr>\n",
       "      <th>35</th>\n",
       "      <td>Pontiac</td>\n",
       "      <td>190.295699</td>\n",
       "    </tr>\n",
       "    <tr>\n",
       "      <th>36</th>\n",
       "      <td>Porsche</td>\n",
       "      <td>392.794118</td>\n",
       "    </tr>\n",
       "    <tr>\n",
       "      <th>37</th>\n",
       "      <td>Rolls-Royce</td>\n",
       "      <td>487.548387</td>\n",
       "    </tr>\n",
       "    <tr>\n",
       "      <th>38</th>\n",
       "      <td>Saab</td>\n",
       "      <td>220.522523</td>\n",
       "    </tr>\n",
       "    <tr>\n",
       "      <th>39</th>\n",
       "      <td>Scion</td>\n",
       "      <td>154.433333</td>\n",
       "    </tr>\n",
       "    <tr>\n",
       "      <th>40</th>\n",
       "      <td>Spyker</td>\n",
       "      <td>400.000000</td>\n",
       "    </tr>\n",
       "    <tr>\n",
       "      <th>41</th>\n",
       "      <td>Subaru</td>\n",
       "      <td>197.308594</td>\n",
       "    </tr>\n",
       "    <tr>\n",
       "      <th>42</th>\n",
       "      <td>Suzuki</td>\n",
       "      <td>160.287749</td>\n",
       "    </tr>\n",
       "    <tr>\n",
       "      <th>43</th>\n",
       "      <td>Tesla</td>\n",
       "      <td>249.000000</td>\n",
       "    </tr>\n",
       "    <tr>\n",
       "      <th>44</th>\n",
       "      <td>Toyota</td>\n",
       "      <td>236.182306</td>\n",
       "    </tr>\n",
       "    <tr>\n",
       "      <th>45</th>\n",
       "      <td>Volkswagen</td>\n",
       "      <td>189.757726</td>\n",
       "    </tr>\n",
       "    <tr>\n",
       "      <th>46</th>\n",
       "      <td>Volvo</td>\n",
       "      <td>230.971530</td>\n",
       "    </tr>\n",
       "  </tbody>\n",
       "</table>\n",
       "</div>"
      ],
      "text/plain": [
       "             Make  HorsePower\n",
       "0           Acura  244.797619\n",
       "1      Alfa Romeo  237.000000\n",
       "2    Aston Martin  484.322581\n",
       "3            Audi  277.695122\n",
       "4             BMW  326.907186\n",
       "5         Bentley  533.851351\n",
       "6           Buick  219.244898\n",
       "7        Cadillac  332.309824\n",
       "8       Chevrolet  246.983081\n",
       "9        Chrysler  229.139037\n",
       "10          Dodge  244.415335\n",
       "11           FIAT  148.661290\n",
       "12        Ferrari  511.956522\n",
       "13           Ford  243.185017\n",
       "14            GMC  259.844660\n",
       "15        Genesis  347.333333\n",
       "16         HUMMER  261.235294\n",
       "17          Honda  195.986637\n",
       "18        Hyundai  201.917492\n",
       "19       Infiniti  310.066667\n",
       "20            Kia  207.740260\n",
       "21    Lamborghini  613.372549\n",
       "22     Land Rover  322.097902\n",
       "23          Lexus  277.415842\n",
       "24        Lincoln  283.158537\n",
       "25          Lotus  275.965517\n",
       "26       Maserati  420.793103\n",
       "27        Maybach  586.285714\n",
       "28          Mazda  171.992908\n",
       "29        McLaren  610.400000\n",
       "30  Mercedes-Benz  349.895184\n",
       "31     Mitsubishi  173.784038\n",
       "32         Nissan  240.084229\n",
       "33     Oldsmobile  177.466667\n",
       "34       Plymouth  131.560976\n",
       "35        Pontiac  190.295699\n",
       "36        Porsche  392.794118\n",
       "37    Rolls-Royce  487.548387\n",
       "38           Saab  220.522523\n",
       "39          Scion  154.433333\n",
       "40         Spyker  400.000000\n",
       "41         Subaru  197.308594\n",
       "42         Suzuki  160.287749\n",
       "43          Tesla  249.000000\n",
       "44         Toyota  236.182306\n",
       "45     Volkswagen  189.757726\n",
       "46          Volvo  230.971530"
      ]
     },
     "execution_count": 9,
     "metadata": {},
     "output_type": "execute_result"
    }
   ],
   "source": [
    "# Average horsepower in each maker\n",
    "\n",
    "# Roll Up function in ATH Leaps\n",
    "\n",
    "avg_hp = main_data.groupby('Make')['HorsePower'].mean().to_frame().reset_index()\n",
    "avg_hp"
   ]
  },
  {
   "cell_type": "markdown",
   "metadata": {
    "id": "yvooA1ffqrWy"
   },
   "source": [
    "## Bar Chart for Average Horsepower of Each Maker"
   ]
  },
  {
   "cell_type": "code",
   "execution_count": 10,
   "metadata": {
    "colab": {
     "background_save": true,
     "base_uri": "https://localhost:8080/",
     "height": 579
    },
    "id": "dAy3p2PgWf3t",
    "outputId": "7d60bddd-f3db-415f-bfc8-0e100f36af71"
   },
   "outputs": [
    {
     "data": {
      "image/png": "[encoded data removed]",
      "text/plain": [
       "<Figure size 720x576 with 1 Axes>"
      ]
     },
     "metadata": {
      "needs_background": "light"
     },
     "output_type": "display_data"
    }
   ],
   "source": [
    "# Bar Chart for average horsepower\n",
    "\n",
    "# Bar Chart 3D (IN) function in ATH Leaps\n",
    "\n",
    "plt.xlabel('Maker name')\n",
    "plt.ylabel('Average horse power')\n",
    "plt.xticks(rotation=90)\n",
    "plt.title('Bar chart for average horse power')\n",
    "temp = main_data.groupby('Make')['HorsePower'].mean()\n",
    "plt.bar(x = temp.index, height = temp.values)\n",
    "plt.show()"
   ]
  },
  {
   "cell_type": "markdown",
   "metadata": {},
   "source": [
    "## Computing the Year - Wise Distribution According to Each Make"
   ]
  },
  {
   "cell_type": "code",
   "execution_count": 11,
   "metadata": {
    "colab": {
     "background_save": true,
     "base_uri": "https://localhost:8080/",
     "height": 1000
    },
    "id": "iFzo31pHWoqw",
    "outputId": "a2b62169-dee9-4d27-adfe-44bd20bfa4fe"
   },
   "outputs": [
    {
     "data": {
      "text/html": [
       "<div>\n",
       "<style scoped>\n",
       "    .dataframe tbody tr th:only-of-type {\n",
       "        vertical-align: middle;\n",
       "    }\n",
       "\n",
       "    .dataframe tbody tr th {\n",
       "        vertical-align: top;\n",
       "    }\n",
       "\n",
       "    .dataframe thead th {\n",
       "        text-align: right;\n",
       "    }\n",
       "</style>\n",
       "<table border=\"1\" class=\"dataframe\">\n",
       "  <thead>\n",
       "    <tr style=\"text-align: right;\">\n",
       "      <th></th>\n",
       "      <th>Make</th>\n",
       "      <th>Year</th>\n",
       "    </tr>\n",
       "  </thead>\n",
       "  <tbody>\n",
       "    <tr>\n",
       "      <th>0</th>\n",
       "      <td>Acura</td>\n",
       "      <td>252</td>\n",
       "    </tr>\n",
       "    <tr>\n",
       "      <th>1</th>\n",
       "      <td>Alfa Romeo</td>\n",
       "      <td>5</td>\n",
       "    </tr>\n",
       "    <tr>\n",
       "      <th>2</th>\n",
       "      <td>Aston Martin</td>\n",
       "      <td>93</td>\n",
       "    </tr>\n",
       "    <tr>\n",
       "      <th>3</th>\n",
       "      <td>Audi</td>\n",
       "      <td>328</td>\n",
       "    </tr>\n",
       "    <tr>\n",
       "      <th>4</th>\n",
       "      <td>BMW</td>\n",
       "      <td>334</td>\n",
       "    </tr>\n",
       "    <tr>\n",
       "      <th>5</th>\n",
       "      <td>Bentley</td>\n",
       "      <td>74</td>\n",
       "    </tr>\n",
       "    <tr>\n",
       "      <th>6</th>\n",
       "      <td>Buick</td>\n",
       "      <td>196</td>\n",
       "    </tr>\n",
       "    <tr>\n",
       "      <th>7</th>\n",
       "      <td>Cadillac</td>\n",
       "      <td>397</td>\n",
       "    </tr>\n",
       "    <tr>\n",
       "      <th>8</th>\n",
       "      <td>Chevrolet</td>\n",
       "      <td>1123</td>\n",
       "    </tr>\n",
       "    <tr>\n",
       "      <th>9</th>\n",
       "      <td>Chrysler</td>\n",
       "      <td>187</td>\n",
       "    </tr>\n",
       "    <tr>\n",
       "      <th>10</th>\n",
       "      <td>Dodge</td>\n",
       "      <td>626</td>\n",
       "    </tr>\n",
       "    <tr>\n",
       "      <th>11</th>\n",
       "      <td>FIAT</td>\n",
       "      <td>62</td>\n",
       "    </tr>\n",
       "    <tr>\n",
       "      <th>12</th>\n",
       "      <td>Ferrari</td>\n",
       "      <td>69</td>\n",
       "    </tr>\n",
       "    <tr>\n",
       "      <th>13</th>\n",
       "      <td>Ford</td>\n",
       "      <td>881</td>\n",
       "    </tr>\n",
       "    <tr>\n",
       "      <th>14</th>\n",
       "      <td>GMC</td>\n",
       "      <td>515</td>\n",
       "    </tr>\n",
       "    <tr>\n",
       "      <th>15</th>\n",
       "      <td>Genesis</td>\n",
       "      <td>3</td>\n",
       "    </tr>\n",
       "    <tr>\n",
       "      <th>16</th>\n",
       "      <td>HUMMER</td>\n",
       "      <td>17</td>\n",
       "    </tr>\n",
       "    <tr>\n",
       "      <th>17</th>\n",
       "      <td>Honda</td>\n",
       "      <td>449</td>\n",
       "    </tr>\n",
       "    <tr>\n",
       "      <th>18</th>\n",
       "      <td>Hyundai</td>\n",
       "      <td>303</td>\n",
       "    </tr>\n",
       "    <tr>\n",
       "      <th>19</th>\n",
       "      <td>Infiniti</td>\n",
       "      <td>330</td>\n",
       "    </tr>\n",
       "    <tr>\n",
       "      <th>20</th>\n",
       "      <td>Kia</td>\n",
       "      <td>231</td>\n",
       "    </tr>\n",
       "    <tr>\n",
       "      <th>21</th>\n",
       "      <td>Lamborghini</td>\n",
       "      <td>51</td>\n",
       "    </tr>\n",
       "    <tr>\n",
       "      <th>22</th>\n",
       "      <td>Land Rover</td>\n",
       "      <td>143</td>\n",
       "    </tr>\n",
       "    <tr>\n",
       "      <th>23</th>\n",
       "      <td>Lexus</td>\n",
       "      <td>202</td>\n",
       "    </tr>\n",
       "    <tr>\n",
       "      <th>24</th>\n",
       "      <td>Lincoln</td>\n",
       "      <td>164</td>\n",
       "    </tr>\n",
       "    <tr>\n",
       "      <th>25</th>\n",
       "      <td>Lotus</td>\n",
       "      <td>29</td>\n",
       "    </tr>\n",
       "    <tr>\n",
       "      <th>26</th>\n",
       "      <td>Maserati</td>\n",
       "      <td>58</td>\n",
       "    </tr>\n",
       "    <tr>\n",
       "      <th>27</th>\n",
       "      <td>Maybach</td>\n",
       "      <td>14</td>\n",
       "    </tr>\n",
       "    <tr>\n",
       "      <th>28</th>\n",
       "      <td>Mazda</td>\n",
       "      <td>423</td>\n",
       "    </tr>\n",
       "    <tr>\n",
       "      <th>29</th>\n",
       "      <td>McLaren</td>\n",
       "      <td>5</td>\n",
       "    </tr>\n",
       "    <tr>\n",
       "      <th>30</th>\n",
       "      <td>Mercedes-Benz</td>\n",
       "      <td>353</td>\n",
       "    </tr>\n",
       "    <tr>\n",
       "      <th>31</th>\n",
       "      <td>Mitsubishi</td>\n",
       "      <td>213</td>\n",
       "    </tr>\n",
       "    <tr>\n",
       "      <th>32</th>\n",
       "      <td>Nissan</td>\n",
       "      <td>558</td>\n",
       "    </tr>\n",
       "    <tr>\n",
       "      <th>33</th>\n",
       "      <td>Oldsmobile</td>\n",
       "      <td>150</td>\n",
       "    </tr>\n",
       "    <tr>\n",
       "      <th>34</th>\n",
       "      <td>Plymouth</td>\n",
       "      <td>82</td>\n",
       "    </tr>\n",
       "    <tr>\n",
       "      <th>35</th>\n",
       "      <td>Pontiac</td>\n",
       "      <td>186</td>\n",
       "    </tr>\n",
       "    <tr>\n",
       "      <th>36</th>\n",
       "      <td>Porsche</td>\n",
       "      <td>136</td>\n",
       "    </tr>\n",
       "    <tr>\n",
       "      <th>37</th>\n",
       "      <td>Rolls-Royce</td>\n",
       "      <td>31</td>\n",
       "    </tr>\n",
       "    <tr>\n",
       "      <th>38</th>\n",
       "      <td>Saab</td>\n",
       "      <td>111</td>\n",
       "    </tr>\n",
       "    <tr>\n",
       "      <th>39</th>\n",
       "      <td>Scion</td>\n",
       "      <td>60</td>\n",
       "    </tr>\n",
       "    <tr>\n",
       "      <th>40</th>\n",
       "      <td>Spyker</td>\n",
       "      <td>3</td>\n",
       "    </tr>\n",
       "    <tr>\n",
       "      <th>41</th>\n",
       "      <td>Subaru</td>\n",
       "      <td>256</td>\n",
       "    </tr>\n",
       "    <tr>\n",
       "      <th>42</th>\n",
       "      <td>Suzuki</td>\n",
       "      <td>351</td>\n",
       "    </tr>\n",
       "    <tr>\n",
       "      <th>43</th>\n",
       "      <td>Tesla</td>\n",
       "      <td>18</td>\n",
       "    </tr>\n",
       "    <tr>\n",
       "      <th>44</th>\n",
       "      <td>Toyota</td>\n",
       "      <td>746</td>\n",
       "    </tr>\n",
       "    <tr>\n",
       "      <th>45</th>\n",
       "      <td>Volkswagen</td>\n",
       "      <td>809</td>\n",
       "    </tr>\n",
       "    <tr>\n",
       "      <th>46</th>\n",
       "      <td>Volvo</td>\n",
       "      <td>281</td>\n",
       "    </tr>\n",
       "  </tbody>\n",
       "</table>\n",
       "</div>"
      ],
      "text/plain": [
       "             Make  Year\n",
       "0           Acura   252\n",
       "1      Alfa Romeo     5\n",
       "2    Aston Martin    93\n",
       "3            Audi   328\n",
       "4             BMW   334\n",
       "5         Bentley    74\n",
       "6           Buick   196\n",
       "7        Cadillac   397\n",
       "8       Chevrolet  1123\n",
       "9        Chrysler   187\n",
       "10          Dodge   626\n",
       "11           FIAT    62\n",
       "12        Ferrari    69\n",
       "13           Ford   881\n",
       "14            GMC   515\n",
       "15        Genesis     3\n",
       "16         HUMMER    17\n",
       "17          Honda   449\n",
       "18        Hyundai   303\n",
       "19       Infiniti   330\n",
       "20            Kia   231\n",
       "21    Lamborghini    51\n",
       "22     Land Rover   143\n",
       "23          Lexus   202\n",
       "24        Lincoln   164\n",
       "25          Lotus    29\n",
       "26       Maserati    58\n",
       "27        Maybach    14\n",
       "28          Mazda   423\n",
       "29        McLaren     5\n",
       "30  Mercedes-Benz   353\n",
       "31     Mitsubishi   213\n",
       "32         Nissan   558\n",
       "33     Oldsmobile   150\n",
       "34       Plymouth    82\n",
       "35        Pontiac   186\n",
       "36        Porsche   136\n",
       "37    Rolls-Royce    31\n",
       "38           Saab   111\n",
       "39          Scion    60\n",
       "40         Spyker     3\n",
       "41         Subaru   256\n",
       "42         Suzuki   351\n",
       "43          Tesla    18\n",
       "44         Toyota   746\n",
       "45     Volkswagen   809\n",
       "46          Volvo   281"
      ]
     },
     "execution_count": 11,
     "metadata": {},
     "output_type": "execute_result"
    }
   ],
   "source": [
    "# Number of cars year wise for makes\n",
    "\n",
    "# Roll Up function in ATH Leaps\n",
    "\n",
    "car_sell = main_data.groupby('Make')['Year'].count().to_frame().reset_index()\n",
    "car_sell"
   ]
  },
  {
   "cell_type": "markdown",
   "metadata": {
    "id": "tM1Gj3g_q0Op"
   },
   "source": [
    "## # Bar Chart for Number of Sells of Maker"
   ]
  },
  {
   "cell_type": "code",
   "execution_count": 12,
   "metadata": {
    "colab": {
     "background_save": true,
     "base_uri": "https://localhost:8080/",
     "height": 579
    },
    "id": "5cACvhjQYTcr",
    "outputId": "7e13adac-ec70-42f8-f025-07010882b5f1"
   },
   "outputs": [
    {
     "data": {
      "image/png": "[encoded data removed]",
      "text/plain": [
       "<Figure size 720x576 with 1 Axes>"
      ]
     },
     "metadata": {
      "needs_background": "light"
     },
     "output_type": "display_data"
    }
   ],
   "source": [
    "# Bar Chart for number of sells\n",
    "\n",
    "# Bar Chart 3D (IN) function in ATH Leaps\n",
    "\n",
    "plt.xlabel('Maker name')\n",
    "plt.ylabel('Number of sells')\n",
    "plt.xticks(rotation=90)\n",
    "plt.title('Bar chart for Number of sells for each maker')\n",
    "temp = main_data.groupby('Make')['Year'].count()\n",
    "plt.bar(x = temp.index, height = temp.values)\n",
    "plt.show()"
   ]
  },
  {
   "cell_type": "markdown",
   "metadata": {
    "id": "BXjl15jkq6hS"
   },
   "source": [
    "## Box Plot Distribution of MSRP by Cylinders"
   ]
  },
  {
   "cell_type": "code",
   "execution_count": 13,
   "metadata": {
    "colab": {
     "background_save": true,
     "base_uri": "https://localhost:8080/",
     "height": 513
    },
    "id": "USmb0tPdYf9G",
    "outputId": "4a9e4830-a4cc-466f-d371-d79027f0fece"
   },
   "outputs": [
    {
     "data": {
      "image/png": "[encoded data removed]",
      "text/plain": [
       "<Figure size 720x576 with 1 Axes>"
      ]
     },
     "metadata": {
      "needs_background": "light"
     },
     "output_type": "display_data"
    }
   ],
   "source": [
    "# Box plot of MSRP distribution by number of cylinders\n",
    "\n",
    "# Box Plot by Group function in ATH Leaps\n",
    "\n",
    "plt.title('Box Plot Distribution of MSRP by Cylinder count')\n",
    "sns.boxplot(x = main_data['Cylinders'], y= main_data['MSRP'])\n",
    "plt.show()"
   ]
  },
  {
   "cell_type": "markdown",
   "metadata": {
    "id": "No4TQT-CrBMz"
   },
   "source": [
    "## Correlation Heatmap of Numerical Features"
   ]
  },
  {
   "cell_type": "code",
   "execution_count": 14,
   "metadata": {
    "colab": {
     "background_save": true,
     "base_uri": "https://localhost:8080/",
     "height": 578
    },
    "id": "o4naF9vJzAEX",
    "outputId": "02be0304-0b37-4169-f408-871daafe09bf"
   },
   "outputs": [
    {
     "data": {
      "image/png": "[encoded data removed]",
      "text/plain": [
       "<Figure size 720x576 with 2 Axes>"
      ]
     },
     "metadata": {
      "needs_background": "light"
     },
     "output_type": "display_data"
    }
   ],
   "source": [
    "# Correlation heatmap of features\n",
    "\n",
    "# Correlation Plot function in ATH Leaps\n",
    "\n",
    "cols = ['Year', 'HorsePower', 'Cylinders', 'Number_of_Doors', 'MPG_highway', 'MPG_City', 'Popularity']\n",
    "plt.title('Correlation heatmap for numerical features')\n",
    "sns.heatmap(main_data[cols].corr(),cmap=\"YlGnBu\", annot=True)\n",
    "plt.show()"
   ]
  },
  {
   "cell_type": "markdown",
   "metadata": {
    "id": "YvW-n_XPrGMQ"
   },
   "source": [
    "## Checking for Missing Values"
   ]
  },
  {
   "cell_type": "code",
   "execution_count": 15,
   "metadata": {
    "colab": {
     "background_save": true,
     "base_uri": "https://localhost:8080/"
    },
    "id": "DZQKSYj6J6YX",
    "outputId": "a5d9a521-d4bd-40b5-ec7e-17e53ac2f453"
   },
   "outputs": [
    {
     "data": {
      "text/plain": [
       "Make                    0\n",
       "Model                   0\n",
       "Year                    0\n",
       "Fuel_Type               3\n",
       "HorsePower              0\n",
       "Cylinders               0\n",
       "Transmission_Type       0\n",
       "Wheels_Driven           0\n",
       "Number_of_Doors         0\n",
       "Market_Segment       3742\n",
       "Vehicle_Size            0\n",
       "Vehicle_Type            0\n",
       "MPG_highway             0\n",
       "MPG_City                0\n",
       "Popularity              0\n",
       "MSRP                    0\n",
       "dtype: int64"
      ]
     },
     "metadata": {},
     "output_type": "display_data"
    }
   ],
   "source": [
    "# Checking for null values\n",
    "\n",
    "\n",
    "display(main_data.isnull().sum())"
   ]
  },
  {
   "cell_type": "markdown",
   "metadata": {
    "id": "DxDcTRVorSGd"
   },
   "source": [
    "## Treatment of Missing Values"
   ]
  },
  {
   "cell_type": "code",
   "execution_count": 16,
   "metadata": {
    "colab": {
     "background_save": true,
     "base_uri": "https://localhost:8080/"
    },
    "id": "bTIUGwVg2z3-",
    "outputId": "629f17af-5212-4977-9db7-104d943e6d40"
   },
   "outputs": [
    {
     "name": "stdout",
     "output_type": "stream",
     "text": [
      "<class 'pandas.core.frame.DataFrame'>\n",
      "RangeIndex: 11908 entries, 0 to 11907\n",
      "Data columns (total 16 columns):\n",
      " #   Column             Non-Null Count  Dtype \n",
      "---  ------             --------------  ----- \n",
      " 0   Make               11908 non-null  object\n",
      " 1   Model              11908 non-null  object\n",
      " 2   Year               11908 non-null  int64 \n",
      " 3   Fuel_Type          11905 non-null  object\n",
      " 4   HorsePower         11908 non-null  int64 \n",
      " 5   Cylinders          11908 non-null  int64 \n",
      " 6   Transmission_Type  11908 non-null  object\n",
      " 7   Wheels_Driven      11908 non-null  object\n",
      " 8   Number_of_Doors    11908 non-null  int64 \n",
      " 9   Market_Segment     8166 non-null   object\n",
      " 10  Vehicle_Size       11908 non-null  object\n",
      " 11  Vehicle_Type       11908 non-null  object\n",
      " 12  MPG_highway        11908 non-null  int64 \n",
      " 13  MPG_City           11908 non-null  int64 \n",
      " 14  Popularity         11908 non-null  int64 \n",
      " 15  MSRP               11908 non-null  int64 \n",
      "dtypes: int64(8), object(8)\n",
      "memory usage: 1.5+ MB\n"
     ]
    }
   ],
   "source": [
    "# Filling missing values\n",
    "\n",
    "# Treat Missing By function in ATH Leaps\n",
    "\n",
    "main_data['Fuel_Type'] =  main_data['Fuel_Type'].fillna(main_data['Fuel_Type'].mode())\n",
    "main_data['Market_Segment'] =  main_data['Market_Segment'].fillna(main_data['Market_Segment'].mode())\n",
    "main_data.info()"
   ]
  },
  {
   "cell_type": "markdown",
   "metadata": {
    "id": "wMPDmFu4AYLe"
   },
   "source": [
    "## Checking for Outliers"
   ]
  },
  {
   "cell_type": "code",
   "execution_count": 17,
   "metadata": {
    "colab": {
     "background_save": true,
     "base_uri": "https://localhost:8080/",
     "height": 237
    },
    "id": "yMIt-yFJ3U--",
    "outputId": "ce883299-b2a0-4c1e-8ec0-c7a089576eb2"
   },
   "outputs": [
    {
     "data": {
      "text/html": [
       "<div>\n",
       "<style scoped>\n",
       "    .dataframe tbody tr th:only-of-type {\n",
       "        vertical-align: middle;\n",
       "    }\n",
       "\n",
       "    .dataframe tbody tr th {\n",
       "        vertical-align: top;\n",
       "    }\n",
       "\n",
       "    .dataframe thead th {\n",
       "        text-align: right;\n",
       "    }\n",
       "</style>\n",
       "<table border=\"1\" class=\"dataframe\">\n",
       "  <thead>\n",
       "    <tr style=\"text-align: right;\">\n",
       "      <th></th>\n",
       "      <th>Selected_Column</th>\n",
       "      <th>No_of_Outliers</th>\n",
       "      <th>No_of_Values</th>\n",
       "      <th>Outlier_Proportion</th>\n",
       "    </tr>\n",
       "  </thead>\n",
       "  <tbody>\n",
       "    <tr>\n",
       "      <th>0</th>\n",
       "      <td>HorsePower</td>\n",
       "      <td>503</td>\n",
       "      <td>11908</td>\n",
       "      <td>4.22</td>\n",
       "    </tr>\n",
       "    <tr>\n",
       "      <th>1</th>\n",
       "      <td>Cylinders</td>\n",
       "      <td>361</td>\n",
       "      <td>11908</td>\n",
       "      <td>3.03</td>\n",
       "    </tr>\n",
       "    <tr>\n",
       "      <th>2</th>\n",
       "      <td>Number_of_Doors</td>\n",
       "      <td>0</td>\n",
       "      <td>11908</td>\n",
       "      <td>0.00</td>\n",
       "    </tr>\n",
       "    <tr>\n",
       "      <th>3</th>\n",
       "      <td>MPG_highway</td>\n",
       "      <td>192</td>\n",
       "      <td>11908</td>\n",
       "      <td>1.61</td>\n",
       "    </tr>\n",
       "    <tr>\n",
       "      <th>4</th>\n",
       "      <td>MPG_City</td>\n",
       "      <td>316</td>\n",
       "      <td>11908</td>\n",
       "      <td>2.65</td>\n",
       "    </tr>\n",
       "    <tr>\n",
       "      <th>5</th>\n",
       "      <td>Popularity</td>\n",
       "      <td>881</td>\n",
       "      <td>11908</td>\n",
       "      <td>7.40</td>\n",
       "    </tr>\n",
       "  </tbody>\n",
       "</table>\n",
       "</div>"
      ],
      "text/plain": [
       "   Selected_Column No_of_Outliers No_of_Values  Outlier_Proportion\n",
       "0       HorsePower            503        11908                4.22\n",
       "1        Cylinders            361        11908                3.03\n",
       "2  Number_of_Doors              0        11908                0.00\n",
       "3      MPG_highway            192        11908                1.61\n",
       "4         MPG_City            316        11908                2.65\n",
       "5       Popularity            881        11908                7.40"
      ]
     },
     "execution_count": 17,
     "metadata": {},
     "output_type": "execute_result"
    }
   ],
   "source": [
    "# Check for outliers\n",
    "\n",
    "# Check Outliers function in ATH Leaps\n",
    "\n",
    "n_total = main_data.shape[0]\n",
    "cols = ['HorsePower', 'Cylinders', 'Number_of_Doors',  'MPG_highway', 'MPG_City', 'Popularity']\n",
    "\n",
    "df_out = pd.DataFrame(columns = ['Selected_Column', 'No_of_Outliers', 'No_of_Values', 'Outlier_Proportion'])\n",
    "\n",
    "for col in cols:\n",
    "  quartile_1, quartile_3 = np.percentile(main_data[col], [25, 75])\n",
    "  iqr = quartile_3 - quartile_1\n",
    "  lower_bound = quartile_1 - (iqr * 1.5)\n",
    "  upper_bound = quartile_3 + (iqr * 1.5)\n",
    "  temp = main_data[(main_data[col] < lower_bound) | (main_data[col]> upper_bound)]\n",
    "  n_outliers = temp.shape[0]\n",
    "  outlier_prop = round((n_outliers/n_total)*100,2)\n",
    "  df_out = df_out.append({'Selected_Column': col, 'No_of_Outliers': n_outliers, 'No_of_Values': n_total, 'Outlier_Proportion': outlier_prop}, ignore_index = True)\n",
    "\n",
    "df_out"
   ]
  },
  {
   "cell_type": "markdown",
   "metadata": {
    "id": "VIbV8Ytesmt5"
   },
   "source": [
    "## Treatment of Outliers"
   ]
  },
  {
   "cell_type": "code",
   "execution_count": 18,
   "metadata": {
    "colab": {
     "background_save": true,
     "base_uri": "https://localhost:8080/",
     "height": 237
    },
    "id": "rNKKzoP0Afj0",
    "outputId": "f088383f-970e-4227-af2f-1638735ed01c"
   },
   "outputs": [
    {
     "data": {
      "text/html": [
       "<div>\n",
       "<style scoped>\n",
       "    .dataframe tbody tr th:only-of-type {\n",
       "        vertical-align: middle;\n",
       "    }\n",
       "\n",
       "    .dataframe tbody tr th {\n",
       "        vertical-align: top;\n",
       "    }\n",
       "\n",
       "    .dataframe thead th {\n",
       "        text-align: right;\n",
       "    }\n",
       "</style>\n",
       "<table border=\"1\" class=\"dataframe\">\n",
       "  <thead>\n",
       "    <tr style=\"text-align: right;\">\n",
       "      <th></th>\n",
       "      <th>UpperBound</th>\n",
       "      <th>LowerBound</th>\n",
       "    </tr>\n",
       "  </thead>\n",
       "  <tbody>\n",
       "    <tr>\n",
       "      <th>HorsePower</th>\n",
       "      <td>495.0</td>\n",
       "      <td>-25.0</td>\n",
       "    </tr>\n",
       "    <tr>\n",
       "      <th>Cylinders</th>\n",
       "      <td>9.0</td>\n",
       "      <td>1.0</td>\n",
       "    </tr>\n",
       "    <tr>\n",
       "      <th>Number_of_Doors</th>\n",
       "      <td>7.0</td>\n",
       "      <td>-1.0</td>\n",
       "    </tr>\n",
       "    <tr>\n",
       "      <th>MPG_highway</th>\n",
       "      <td>42.0</td>\n",
       "      <td>10.0</td>\n",
       "    </tr>\n",
       "    <tr>\n",
       "      <th>MPG_City</th>\n",
       "      <td>31.0</td>\n",
       "      <td>7.0</td>\n",
       "    </tr>\n",
       "    <tr>\n",
       "      <th>Popularity</th>\n",
       "      <td>4199.0</td>\n",
       "      <td>-1641.0</td>\n",
       "    </tr>\n",
       "  </tbody>\n",
       "</table>\n",
       "</div>"
      ],
      "text/plain": [
       "                 UpperBound  LowerBound\n",
       "HorsePower            495.0       -25.0\n",
       "Cylinders               9.0         1.0\n",
       "Number_of_Doors         7.0        -1.0\n",
       "MPG_highway            42.0        10.0\n",
       "MPG_City               31.0         7.0\n",
       "Popularity           4199.0     -1641.0"
      ]
     },
     "execution_count": 18,
     "metadata": {},
     "output_type": "execute_result"
    }
   ],
   "source": [
    "# Treating outliers\n",
    "\n",
    "# Treat Outliers By function in ATH Leaps\n",
    "\n",
    "cols = ['HorsePower', 'Cylinders', 'Number_of_Doors',  'MPG_highway', 'MPG_City', 'Popularity']\n",
    "\n",
    "df_treat_out = pd.DataFrame(columns = ['UpperBound', 'LowerBound'])\n",
    "upp_bound = []\n",
    "low_bound = []\n",
    "for col in cols:\n",
    "  q1, q3 = np.percentile(main_data[col], [25, 75])\n",
    "  iqr = q3-q1\n",
    "  lower_bound = q1 - (iqr*1.5)\n",
    "  upper_bound = q3 + (iqr*1.5)\n",
    "  c1 = main_data[col] < lower_bound\n",
    "  c2 = main_data[col] > upper_bound\n",
    "  main_data.loc[c1, col] = lower_bound\n",
    "  main_data.loc[c2, col] = upper_bound\n",
    "  upp_bound.append(upper_bound)\n",
    "  low_bound.append(lower_bound)\n",
    "\n",
    "\n",
    "for i in range(0, len(cols)):\n",
    "  row = 0\n",
    "  df_treat_out.loc[df_treat_out.shape[row]] = [upp_bound[i], low_bound[i]]\n",
    "  row += 1\n",
    "\n",
    "df_treat_out.index = cols\n",
    "df_treat_out\n"
   ]
  },
  {
   "cell_type": "markdown",
   "metadata": {
    "id": "_9wkzEbaZQYm"
   },
   "source": [
    "## Categorical Encoding"
   ]
  },
  {
   "cell_type": "code",
   "execution_count": 19,
   "metadata": {
    "colab": {
     "background_save": true
    },
    "id": "GENe9EG4iqNh"
   },
   "outputs": [],
   "source": [
    "# Creating dummy variables for categorical features\n",
    "\n",
    "# Dummy Variable function in ATH Leaps\n",
    "\n",
    "cols = ['Fuel_Type', 'Transmission_Type', 'Vehicle_Type', 'Vehicle_Size', 'Wheels_Driven']\n",
    "main_data = pd.get_dummies(data = main_data, columns = cols)"
   ]
  },
  {
   "cell_type": "code",
   "execution_count": 20,
   "metadata": {
    "colab": {
     "background_save": true
    },
    "id": "E8AP4ickoVX9"
   },
   "outputs": [],
   "source": [
    "# Drop specific columns\n",
    "\n",
    "# Delete Column(s) function in ATH Leaps\n",
    "\n",
    "main_data.drop(['Make', 'Model', 'Market_Segment'],axis=1, inplace = True)"
   ]
  },
  {
   "cell_type": "markdown",
   "metadata": {
    "id": "G6eYOTqBrdkw"
   },
   "source": [
    "## Removing Multicollinearity Using Variance Inflation Factor"
   ]
  },
  {
   "cell_type": "code",
   "execution_count": 21,
   "metadata": {
    "colab": {
     "background_save": true,
     "base_uri": "https://localhost:8080/",
     "height": 269
    },
    "id": "9X3K7gwMo_ny",
    "outputId": "f94536d9-4bb5-4587-e332-3c4df7af19fb"
   },
   "outputs": [
    {
     "data": {
      "text/html": [
       "<div>\n",
       "<style scoped>\n",
       "    .dataframe tbody tr th:only-of-type {\n",
       "        vertical-align: middle;\n",
       "    }\n",
       "\n",
       "    .dataframe tbody tr th {\n",
       "        vertical-align: top;\n",
       "    }\n",
       "\n",
       "    .dataframe thead th {\n",
       "        text-align: right;\n",
       "    }\n",
       "</style>\n",
       "<table border=\"1\" class=\"dataframe\">\n",
       "  <thead>\n",
       "    <tr style=\"text-align: right;\">\n",
       "      <th></th>\n",
       "      <th>feature</th>\n",
       "      <th>VIF</th>\n",
       "    </tr>\n",
       "  </thead>\n",
       "  <tbody>\n",
       "    <tr>\n",
       "      <th>0</th>\n",
       "      <td>Year</td>\n",
       "      <td>147.183502</td>\n",
       "    </tr>\n",
       "    <tr>\n",
       "      <th>1</th>\n",
       "      <td>HorsePower</td>\n",
       "      <td>17.912226</td>\n",
       "    </tr>\n",
       "    <tr>\n",
       "      <th>2</th>\n",
       "      <td>Cylinders</td>\n",
       "      <td>54.579485</td>\n",
       "    </tr>\n",
       "    <tr>\n",
       "      <th>3</th>\n",
       "      <td>Number_of_Doors</td>\n",
       "      <td>16.756187</td>\n",
       "    </tr>\n",
       "    <tr>\n",
       "      <th>4</th>\n",
       "      <td>MPG_highway</td>\n",
       "      <td>196.667393</td>\n",
       "    </tr>\n",
       "    <tr>\n",
       "      <th>5</th>\n",
       "      <td>MPG_City</td>\n",
       "      <td>202.031048</td>\n",
       "    </tr>\n",
       "    <tr>\n",
       "      <th>6</th>\n",
       "      <td>Popularity</td>\n",
       "      <td>2.591573</td>\n",
       "    </tr>\n",
       "  </tbody>\n",
       "</table>\n",
       "</div>"
      ],
      "text/plain": [
       "           feature         VIF\n",
       "0             Year  147.183502\n",
       "1       HorsePower   17.912226\n",
       "2        Cylinders   54.579485\n",
       "3  Number_of_Doors   16.756187\n",
       "4      MPG_highway  196.667393\n",
       "5         MPG_City  202.031048\n",
       "6       Popularity    2.591573"
      ]
     },
     "execution_count": 21,
     "metadata": {},
     "output_type": "execute_result"
    }
   ],
   "source": [
    "# Calculating VIF - 1\n",
    "\n",
    "# Variance Inflation Factor (VIF) function in ATH Leaps\n",
    "\n",
    "# the independent variables set\n",
    "X = main_data[['Year', 'HorsePower', 'Cylinders','Number_of_Doors', 'MPG_highway', 'MPG_City', 'Popularity']]\n",
    "  \n",
    "# VIF main_dataframe\n",
    "vif_main_data = pd.DataFrame()\n",
    "vif_main_data[\"feature\"] = X.columns\n",
    "  \n",
    "# calculating VIF for each feature\n",
    "vif_main_data[\"VIF\"] = [variance_inflation_factor(X.values, i)\n",
    "                          for i in range(len(X.columns))]\n",
    "\n",
    "vif_main_data                         "
   ]
  },
  {
   "cell_type": "code",
   "execution_count": 22,
   "metadata": {
    "colab": {
     "background_save": true,
     "base_uri": "https://localhost:8080/",
     "height": 237
    },
    "id": "i6-8EFmX6ABt",
    "outputId": "ff60dc4a-80fc-4716-bf3b-18bb3baea1ad"
   },
   "outputs": [
    {
     "data": {
      "text/html": [
       "<div>\n",
       "<style scoped>\n",
       "    .dataframe tbody tr th:only-of-type {\n",
       "        vertical-align: middle;\n",
       "    }\n",
       "\n",
       "    .dataframe tbody tr th {\n",
       "        vertical-align: top;\n",
       "    }\n",
       "\n",
       "    .dataframe thead th {\n",
       "        text-align: right;\n",
       "    }\n",
       "</style>\n",
       "<table border=\"1\" class=\"dataframe\">\n",
       "  <thead>\n",
       "    <tr style=\"text-align: right;\">\n",
       "      <th></th>\n",
       "      <th>feature</th>\n",
       "      <th>VIF</th>\n",
       "    </tr>\n",
       "  </thead>\n",
       "  <tbody>\n",
       "    <tr>\n",
       "      <th>0</th>\n",
       "      <td>Year</td>\n",
       "      <td>146.656815</td>\n",
       "    </tr>\n",
       "    <tr>\n",
       "      <th>1</th>\n",
       "      <td>HorsePower</td>\n",
       "      <td>17.905643</td>\n",
       "    </tr>\n",
       "    <tr>\n",
       "      <th>2</th>\n",
       "      <td>Cylinders</td>\n",
       "      <td>54.436467</td>\n",
       "    </tr>\n",
       "    <tr>\n",
       "      <th>3</th>\n",
       "      <td>Number_of_Doors</td>\n",
       "      <td>16.704684</td>\n",
       "    </tr>\n",
       "    <tr>\n",
       "      <th>4</th>\n",
       "      <td>MPG_highway</td>\n",
       "      <td>196.593651</td>\n",
       "    </tr>\n",
       "    <tr>\n",
       "      <th>5</th>\n",
       "      <td>MPG_City</td>\n",
       "      <td>201.676559</td>\n",
       "    </tr>\n",
       "  </tbody>\n",
       "</table>\n",
       "</div>"
      ],
      "text/plain": [
       "           feature         VIF\n",
       "0             Year  146.656815\n",
       "1       HorsePower   17.905643\n",
       "2        Cylinders   54.436467\n",
       "3  Number_of_Doors   16.704684\n",
       "4      MPG_highway  196.593651\n",
       "5         MPG_City  201.676559"
      ]
     },
     "execution_count": 22,
     "metadata": {},
     "output_type": "execute_result"
    }
   ],
   "source": [
    "# Calculating VIF - 2\n",
    "\n",
    "# Variance Inflation Factor (VIF) function in ATH Leaps\n",
    "\n",
    "# the independent variables set\n",
    "X = main_data[['Year', 'HorsePower', 'Cylinders','Number_of_Doors', 'MPG_highway', 'MPG_City']]\n",
    "  \n",
    "# VIF main_dataframe\n",
    "vif_main_data = pd.DataFrame()\n",
    "vif_main_data[\"feature\"] = X.columns\n",
    "  \n",
    "# calculating VIF for each feature\n",
    "vif_main_data[\"VIF\"] = [variance_inflation_factor(X.values, i)\n",
    "                          for i in range(len(X.columns))]\n",
    "\n",
    "vif_main_data "
   ]
  },
  {
   "cell_type": "code",
   "execution_count": 23,
   "metadata": {
    "colab": {
     "background_save": true,
     "base_uri": "https://localhost:8080/",
     "height": 206
    },
    "id": "iIzmtwNj6oMF",
    "outputId": "b370fc95-c023-431a-b871-879355665455"
   },
   "outputs": [
    {
     "data": {
      "text/html": [
       "<div>\n",
       "<style scoped>\n",
       "    .dataframe tbody tr th:only-of-type {\n",
       "        vertical-align: middle;\n",
       "    }\n",
       "\n",
       "    .dataframe tbody tr th {\n",
       "        vertical-align: top;\n",
       "    }\n",
       "\n",
       "    .dataframe thead th {\n",
       "        text-align: right;\n",
       "    }\n",
       "</style>\n",
       "<table border=\"1\" class=\"dataframe\">\n",
       "  <thead>\n",
       "    <tr style=\"text-align: right;\">\n",
       "      <th></th>\n",
       "      <th>feature</th>\n",
       "      <th>VIF</th>\n",
       "    </tr>\n",
       "  </thead>\n",
       "  <tbody>\n",
       "    <tr>\n",
       "      <th>0</th>\n",
       "      <td>Year</td>\n",
       "      <td>63.203808</td>\n",
       "    </tr>\n",
       "    <tr>\n",
       "      <th>1</th>\n",
       "      <td>HorsePower</td>\n",
       "      <td>11.674949</td>\n",
       "    </tr>\n",
       "    <tr>\n",
       "      <th>2</th>\n",
       "      <td>Number_of_Doors</td>\n",
       "      <td>16.700777</td>\n",
       "    </tr>\n",
       "    <tr>\n",
       "      <th>3</th>\n",
       "      <td>MPG_highway</td>\n",
       "      <td>193.568161</td>\n",
       "    </tr>\n",
       "    <tr>\n",
       "      <th>4</th>\n",
       "      <td>MPG_City</td>\n",
       "      <td>194.456904</td>\n",
       "    </tr>\n",
       "  </tbody>\n",
       "</table>\n",
       "</div>"
      ],
      "text/plain": [
       "           feature         VIF\n",
       "0             Year   63.203808\n",
       "1       HorsePower   11.674949\n",
       "2  Number_of_Doors   16.700777\n",
       "3      MPG_highway  193.568161\n",
       "4         MPG_City  194.456904"
      ]
     },
     "execution_count": 23,
     "metadata": {},
     "output_type": "execute_result"
    }
   ],
   "source": [
    "# Calculating VIF - 3\n",
    "\n",
    "# Variance Inflation Factor (VIF) function in ATH Leaps\n",
    "\n",
    "# the independent variables set\n",
    "X = main_data[['Year', 'HorsePower', 'Number_of_Doors', 'MPG_highway', 'MPG_City']]\n",
    "  \n",
    "# VIF main_dataframe\n",
    "vif_main_data = pd.DataFrame()\n",
    "vif_main_data[\"feature\"] = X.columns\n",
    "  \n",
    "# calculating VIF for each feature\n",
    "vif_main_data[\"VIF\"] = [variance_inflation_factor(X.values, i)\n",
    "                          for i in range(len(X.columns))]\n",
    "\n",
    "vif_main_data "
   ]
  },
  {
   "cell_type": "markdown",
   "metadata": {
    "id": "CM_EIO2yZTsH"
   },
   "source": [
    "## Splitting Data into Train and Test Data"
   ]
  },
  {
   "cell_type": "code",
   "execution_count": 24,
   "metadata": {
    "colab": {
     "background_save": true
    },
    "id": "yVPHPhVWEVL3"
   },
   "outputs": [],
   "source": [
    "# Forming train and test data\n",
    "\n",
    "# Split Data (Py) function in ATH Leaps\n",
    "\n",
    "y = main_data['MSRP']\n",
    "X = main_data.drop('MSRP', axis = 1)\n",
    "X_train, X_test, y_train, y_test = train_test_split(X, y, test_size = 0.3)"
   ]
  },
  {
   "cell_type": "markdown",
   "metadata": {
    "id": "UAiyc3hcHxGp"
   },
   "source": [
    "# Modelling"
   ]
  },
  {
   "cell_type": "markdown",
   "metadata": {},
   "source": [
    "## Implementing the Model"
   ]
  },
  {
   "cell_type": "code",
   "execution_count": 25,
   "metadata": {
    "colab": {
     "background_save": true,
     "base_uri": "https://localhost:8080/"
    },
    "id": "cng84zLnHAEF",
    "outputId": "dea4b70b-e17e-4a20-8792-e7f59ea85a94"
   },
   "outputs": [
    {
     "data": {
      "text/plain": [
       "RandomForestRegressor()"
      ]
     },
     "execution_count": 25,
     "metadata": {},
     "output_type": "execute_result"
    }
   ],
   "source": [
    "# Training three regression models\n",
    "\n",
    "# Train Regression Models function in ATH Leaps\n",
    "\n",
    "# Lnear regression\n",
    "\n",
    "lr = LinearRegression()\n",
    "lr.fit(X_train, y_train)\n",
    "\n",
    "# Decision Tree regressor\n",
    "\n",
    "dt = DecisionTreeRegressor()\n",
    "dt.fit(X_train, y_train)\n",
    "\n",
    "# random Forest regressor\n",
    "\n",
    "rf =  RandomForestRegressor()\n",
    "rf.fit(X_train, y_train)"
   ]
  },
  {
   "cell_type": "markdown",
   "metadata": {
    "id": "T_LUJ_CbHzK8"
   },
   "source": [
    "## Predictions Using Linear Regression"
   ]
  },
  {
   "cell_type": "code",
   "execution_count": 26,
   "metadata": {
    "colab": {
     "background_save": true,
     "base_uri": "https://localhost:8080/"
    },
    "id": "Xm0txeLBHmgr",
    "outputId": "533425bb-fd86-4674-c1c0-2eee61e75184"
   },
   "outputs": [
    {
     "name": "stdout",
     "output_type": "stream",
     "text": [
      "Mean absolute error:  16803.849860928472 \n",
      "Root Mean Squared Error:  32557.077201376756 \n",
      "R2 score:  0.571822129329733\n"
     ]
    }
   ],
   "source": [
    "# Predicting on test data - linear regression\n",
    "\n",
    "# Apply ML Algorithm (Py) function in ATH Leaps\n",
    "\n",
    "lr_pred = lr.predict(X_test)\n",
    "\n",
    "mae = mean_absolute_error(y_test, lr_pred)\n",
    "rmse = np.sqrt(mean_squared_error(y_test, lr_pred))\n",
    "r2_sc = r2_score(y_test, lr_pred)\n",
    "\n",
    "print('Mean absolute error: ', mae, '\\nRoot Mean Squared Error: ', rmse, '\\nR2 score: ', r2_sc)"
   ]
  },
  {
   "cell_type": "markdown",
   "metadata": {
    "id": "KHc6kExMr5TE"
   },
   "source": [
    "## Predictions Using Decision Tree Regression"
   ]
  },
  {
   "cell_type": "code",
   "execution_count": 27,
   "metadata": {
    "colab": {
     "background_save": true,
     "base_uri": "https://localhost:8080/"
    },
    "id": "anwgMDo7NBAL",
    "outputId": "f712f05d-1694-4dbc-94ee-978e01fbf359"
   },
   "outputs": [
    {
     "name": "stdout",
     "output_type": "stream",
     "text": [
      "Mean absolute error:  3849.3749149263213 \n",
      "Root Mean Squared Error:  8601.806251414615 \n",
      "R2 score:  0.9701109086903557\n"
     ]
    }
   ],
   "source": [
    "# Predicting on test data - decision tree regression\n",
    "\n",
    "# Apply ML Algorithm (Py) function in ATH Leaps\n",
    "\n",
    "dt_pred = dt.predict(X_test)\n",
    "\n",
    "mae = mean_absolute_error(y_test, dt_pred)\n",
    "rmse = np.sqrt(mean_squared_error(y_test, dt_pred))\n",
    "r2_sc = r2_score(y_test, dt_pred)\n",
    "\n",
    "print('Mean absolute error: ', mae, '\\nRoot Mean Squared Error: ', rmse, '\\nR2 score: ', r2_sc)"
   ]
  },
  {
   "cell_type": "markdown",
   "metadata": {
    "id": "z1LfqND9sAEy"
   },
   "source": [
    "## Predictions Using Random Forest Regression"
   ]
  },
  {
   "cell_type": "code",
   "execution_count": 28,
   "metadata": {
    "colab": {
     "background_save": true,
     "base_uri": "https://localhost:8080/"
    },
    "id": "vYlSCyD6NOQq",
    "outputId": "572a3127-e483-40ad-aa65-45a9a5d6d179"
   },
   "outputs": [
    {
     "name": "stdout",
     "output_type": "stream",
     "text": [
      "Mean absolute error:  3669.6151783924097 \n",
      "Root Mean Squared Error:  8205.421066911922 \n",
      "R2 score:  0.9728021143474863\n"
     ]
    }
   ],
   "source": [
    "# Predicting on test data - random forest regression\n",
    "\n",
    "# Apply ML Algorithm (Py) function in ATH Leaps\n",
    "\n",
    "rf_pred = rf.predict(X_test)\n",
    "\n",
    "mae = mean_absolute_error(y_test, rf_pred)\n",
    "rmse = np.sqrt(mean_squared_error(y_test, rf_pred))\n",
    "r2_sc = r2_score(y_test, rf_pred)\n",
    "\n",
    "print('Mean absolute error: ', mae, '\\nRoot Mean Squared Error: ', rmse, '\\nR2 score: ', r2_sc)"
   ]
  },
  {
   "cell_type": "markdown",
   "metadata": {
    "id": "aVSjZiAENYym"
   },
   "source": [
    "## Scatter Plot of True Values and Linear Regression Predictions"
   ]
  },
  {
   "cell_type": "code",
   "execution_count": 29,
   "metadata": {
    "colab": {
     "background_save": true,
     "base_uri": "https://localhost:8080/",
     "height": 513
    },
    "id": "covDosV0J7i_",
    "outputId": "e286c379-c789-424c-941c-6acaafd0bdeb"
   },
   "outputs": [
    {
     "data": {
      "image/png": "[encoded data removed]",
      "text/plain": [
       "<Figure size 720x576 with 1 Axes>"
      ]
     },
     "metadata": {
      "needs_background": "light"
     },
     "output_type": "display_data"
    }
   ],
   "source": [
    "# Scatter plot to compare predictions with test data\n",
    "\n",
    "# Scatter Plot Fit Line (Py) function in ATH Leaps\n",
    "\n",
    "plt.ylabel('True MSRP')\n",
    "plt.xlabel('Predicted MSRP by Linear Regression')\n",
    "plt.scatter(lr_pred, y_test)\n",
    "plt.title('Scatter plot between true MSRP and predicted values by LR')\n",
    "plt.show()"
   ]
  },
  {
   "cell_type": "markdown",
   "metadata": {
    "id": "c8gDBdSlsPvU"
   },
   "source": [
    "## Scatter Plot of True Values and Decision Tree Regression Predictions"
   ]
  },
  {
   "cell_type": "code",
   "execution_count": 30,
   "metadata": {
    "colab": {
     "background_save": true,
     "base_uri": "https://localhost:8080/",
     "height": 513
    },
    "id": "yxW0U9x0KFMi",
    "outputId": "72466db0-2fc9-41ca-85cf-f36941b3d22b"
   },
   "outputs": [
    {
     "data": {
      "image/png": "[encoded data removed]",
      "text/plain": [
       "<Figure size 720x576 with 1 Axes>"
      ]
     },
     "metadata": {
      "needs_background": "light"
     },
     "output_type": "display_data"
    }
   ],
   "source": [
    "# Scatter plot for true MSRP and predicted MSRP by Decision tree\n",
    "\n",
    "plt.ylabel('True MSRP')\n",
    "plt.xlabel('Predicted MSRP by Decision tree regression')\n",
    "plt.scatter(dt_pred, y_test)\n",
    "plt.title('Scatter plot between true MSRP and predicted values by Decision Tree')\n",
    "plt.show()"
   ]
  },
  {
   "cell_type": "markdown",
   "metadata": {
    "id": "mJr88rnasZMG"
   },
   "source": [
    "## Scatter Plot of True Values and Random Forest Regression Predictions"
   ]
  },
  {
   "cell_type": "code",
   "execution_count": 31,
   "metadata": {
    "colab": {
     "background_save": true,
     "base_uri": "https://localhost:8080/",
     "height": 513
    },
    "id": "VTkM2KkNKSss",
    "outputId": "ac77718a-7399-460a-9a9a-d152b7bcea8b"
   },
   "outputs": [
    {
     "data": {
      "image/png": "[encoded data removed]",
      "text/plain": [
       "<Figure size 720x576 with 1 Axes>"
      ]
     },
     "metadata": {
      "needs_background": "light"
     },
     "output_type": "display_data"
    }
   ],
   "source": [
    "# Scatter plot for true MSRP and predicted MSRP by Random Forest Regression\n",
    "\n",
    "plt.ylabel('True MSRP')\n",
    "plt.xlabel('Predicted MSRP by Random forest regression')\n",
    "plt.scatter(rf_pred, y_test)\n",
    "plt.title('Scatter plot between true MSRP and predicted values by Random Forest')\n",
    "plt.show()"
   ]
  },
  {
   "cell_type": "code",
   "execution_count": null,
   "metadata": {},
   "outputs": [],
   "source": []
  }
 ],
 "metadata": {
  "colab": {
   "name": "Automobile Price Estimation - Using ML to price automobiles based on key features.ipynb",
   "provenance": []
  },
  "kernelspec": {
   "display_name": "Python 3 (ipykernel)",
   "language": "python",
   "name": "python3"
  },
  "language_info": {
   "codemirror_mode": {
    "name": "ipython",
    "version": 3
   },
   "file_extension": ".py",
   "mimetype": "text/x-python",
   "name": "python",
   "nbconvert_exporter": "python",
   "pygments_lexer": "ipython3",
   "version": "3.9.7"
  }
 },
 "nbformat": 4,
 "nbformat_minor": 1
}
